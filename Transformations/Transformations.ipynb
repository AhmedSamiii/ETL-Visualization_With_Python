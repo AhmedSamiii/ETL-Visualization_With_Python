{
 "cells": [
  {
   "cell_type": "code",
   "execution_count": 6,
   "id": "b97e2dce-7946-475c-9d99-2838bb548752",
   "metadata": {},
   "outputs": [],
   "source": [
    "import pandas as pd \n",
    "import os\n",
    "\n",
    "def save_to_csv(df, dataframe_name):\n",
    "    filepath = f\"../staging_2/{dataframe_name}/{dataframe_name}.csv\"\n",
    "    directory = os.path.dirname(filepath)\n",
    "    if not os.path.exists(directory):\n",
    "        os.makedirs(directory)\n",
    "    df.to_csv(filepath, index=False)"
   ]
  },
  {
   "cell_type": "code",
   "execution_count": 7,
   "id": "0e80ba03-3d54-4fdc-bc85-2dd2d1540f89",
   "metadata": {},
   "outputs": [],
   "source": [
    "\n",
    "# ADDING CALCULATED COLUMN list_price_egp\n",
    "order_items=pd.read_csv(\"../staging_1/order_items/order_items.csv\")\n",
    "Exchange=pd.read_csv(\"../staging_1/Exchange/Exchange.csv\")\n",
    "\n",
    "order_items['key'] = 1\n",
    "Exchange['key'] = 1\n",
    "\n",
    "# Perform cross join\n",
    "merged_df = pd.merge(order_items, Exchange, on='key').drop('key', axis=1)\n",
    "\n",
    "# Calculate list_price_egp\n",
    "order_items['list_price_egp'] = merged_df['list_price'] * merged_df['EGP']\n",
    "\n",
    "\n"
   ]
  },
  {
   "cell_type": "code",
   "execution_count": 8,
   "id": "7359b55a-7493-4345-be0a-d2bb48e01a72",
   "metadata": {},
   "outputs": [],
   "source": [
    "\n",
    "# ADDING 3 CALCULATED COLUMNS IN ORDERS \n",
    "\n",
    "orders=pd.read_csv(\"../staging_1/orders/orders.csv\")\n",
    "\n",
    "orders['order_date'] = pd.to_datetime(orders['order_date'])\n",
    "orders['required_date'] = pd.to_datetime(orders['required_date'])\n",
    "orders['shipped_date'] = pd.to_datetime(orders['shipped_date'])\n",
    "\n",
    "orders['late_delivery'] = orders['shipped_date'] > orders['required_date']\n",
    "\n",
    "orders['latency_days'] = (orders['shipped_date'] - orders['required_date']).dt.days\n",
    "\n",
    "orders['weekend'] = orders['shipped_date'].dt.dayofweek.isin([6, 0])  # Sunday or Monday\n",
    "\n",
    "# LOOKUP TABLE \n",
    "\n",
    "status_lookup = {\n",
    "    1: 'Pending',\n",
    "    2: 'Processing',\n",
    "    3: 'Rejected',\n",
    "    4: 'Completed'\n",
    "}\n",
    "# Create DataFrame for order status lookup\n",
    "status_df = pd.DataFrame(list(status_lookup.items()), columns=['order_status', 'status_description'])\n",
    "\n",
    "# Merge orders DataFrame with status lookup DataFrame\n",
    "orders = pd.merge(orders, status_df, on='order_status', how='inner')\n",
    "\n",
    "\n",
    "\n",
    "# selected_orders = orders[orders['latency_days'] > 0]\n",
    "\n",
    "# selected_orders "
   ]
  },
  {
   "cell_type": "code",
   "execution_count": 9,
   "id": "15ad188b-c233-40b4-af6c-355c4fe6a5b0",
   "metadata": {},
   "outputs": [],
   "source": [
    "\n",
    "# ADDING LOCAL FLAG FOR CUTOMERS\n",
    "\n",
    "customers = pd.read_csv(\"../staging_1/customers/customers.csv\")\n",
    "stores = pd.read_csv(\"../staging_1/stores/stores.csv\")\n",
    "store_cities = stores['city'].unique()\n",
    "customers['local'] = customers['city'].isin(store_cities)\n",
    "\n",
    "\n"
   ]
  },
  {
   "cell_type": "code",
   "execution_count": 10,
   "id": "a39ad63b-4ed8-4c93-9406-31bb056d6c99",
   "metadata": {},
   "outputs": [],
   "source": [
    "brands=pd.read_csv(\"../staging_1/brands/brands.csv\")\n",
    "categories=pd.read_csv(\"../staging_1/categories/categories.csv\")\n",
    "Exchange=pd.read_csv(\"../staging_1/Exchange/Exchange.csv\")\n",
    "products=pd.read_csv(\"../staging_1/products/products.csv\")\n",
    "staffs=pd.read_csv(\"../staging_1/staffs/staffs.csv\")\n",
    "stocks=pd.read_csv(\"../staging_1/stocks/stocks.csv\")\n",
    "stores=pd.read_csv(\"../staging_1/stores/stores.csv\")\n",
    "\n",
    "\n",
    "save_to_csv(order_items,\"order_items\")\n",
    "save_to_csv(orders,\"orders\")\n",
    "save_to_csv(customers,\"customers\")\n",
    "save_to_csv(brands,\"brands\")\n",
    "save_to_csv(categories,\"categories\")\n",
    "save_to_csv(customers,\"customers\")\n",
    "save_to_csv(Exchange,\"Exchange\")\n",
    "save_to_csv(products,\"products\")\n",
    "save_to_csv(staffs,\"staffs\")\n",
    "save_to_csv(stores,\"stores\")"
   ]
  },
  {
   "cell_type": "code",
   "execution_count": null,
   "id": "5f7819fa-aa56-4421-99fa-71051a3f8328",
   "metadata": {},
   "outputs": [],
   "source": []
  }
 ],
 "metadata": {
  "kernelspec": {
   "display_name": "Python 3 (ipykernel)",
   "language": "python",
   "name": "python3"
  },
  "language_info": {
   "codemirror_mode": {
    "name": "ipython",
    "version": 3
   },
   "file_extension": ".py",
   "mimetype": "text/x-python",
   "name": "python",
   "nbconvert_exporter": "python",
   "pygments_lexer": "ipython3",
   "version": "3.12.0"
  }
 },
 "nbformat": 4,
 "nbformat_minor": 5
}
