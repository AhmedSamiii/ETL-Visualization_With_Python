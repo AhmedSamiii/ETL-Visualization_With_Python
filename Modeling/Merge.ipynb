{
 "cells": [
  {
   "cell_type": "code",
   "execution_count": 9,
   "id": "f239697b-d7d1-4c15-b80a-1780deb84d59",
   "metadata": {},
   "outputs": [],
   "source": [
    "import os\n",
    "import pandas as pd\n",
    "\n",
    "def save_dataframe_to_path(dataframe, path, filename):\n",
    "    if not os.path.exists(path):\n",
    "        os.makedirs(path)\n",
    "    file_path = os.path.join(path, filename)\n",
    "    \n",
    "    dataframe.to_csv(file_path, index=False)\n",
    "    print(f\"Dataframe saved to: {file_path}\")\n"
   ]
  },
  {
   "cell_type": "code",
   "execution_count": 10,
   "id": "47e7b4ca-d2d5-4c8a-a36a-b703cf85d712",
   "metadata": {},
   "outputs": [
    {
     "name": "stdout",
     "output_type": "stream",
     "text": [
      "Dataframe saved to: ../Information_Mart\\orders_products_details.csv\n"
     ]
    }
   ],
   "source": [
    "import pandas as pd\n",
    "\n",
    "orders = pd.read_csv(\"../staging_2/orders/orders.csv\")\n",
    "order_items = pd.read_csv(\"../staging_2/order_items/order_items.csv\")\n",
    "products = pd.read_csv(\"../staging_2/products/products.csv\")\n",
    "\n",
    "\n",
    "Information_Mart = pd.merge(orders, order_items, on='order_id', suffixes=('_order', '_item'))\n",
    "Information_Mart = pd.merge(merged_df, products, on='product_id', suffixes=('_order_item', '_product'))\n",
    "\n",
    "\n",
    "save_dataframe_to_path(Information_Mart,\"../Information_Mart\",\"orders_products_details.csv\")"
   ]
  },
  {
   "cell_type": "code",
   "execution_count": null,
   "id": "f99480aa-b397-46da-8322-b318f8e61335",
   "metadata": {},
   "outputs": [],
   "source": []
  }
 ],
 "metadata": {
  "kernelspec": {
   "display_name": "Python 3 (ipykernel)",
   "language": "python",
   "name": "python3"
  },
  "language_info": {
   "codemirror_mode": {
    "name": "ipython",
    "version": 3
   },
   "file_extension": ".py",
   "mimetype": "text/x-python",
   "name": "python",
   "nbconvert_exporter": "python",
   "pygments_lexer": "ipython3",
   "version": "3.12.0"
  }
 },
 "nbformat": 4,
 "nbformat_minor": 5
}
