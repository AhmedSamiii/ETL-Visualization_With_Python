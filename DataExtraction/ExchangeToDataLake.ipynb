{
 "cells": [
  {
   "cell_type": "code",
   "execution_count": 11,
   "id": "f5a9dcbf-5af3-4bce-abe3-525fe9e4821f",
   "metadata": {},
   "outputs": [],
   "source": [
    "import requests\n",
    "import json\n",
    "import pandas as pd\n",
    "response = requests.get(\"https://openexchangerates.org/api/latest.json\" , params={'app_id':'9756e000a8ad4d699a4f54ea01da50f9'})\n",
    "\n",
    "data = response.json()\n",
    "df = pd.json_normalize(data)"
   ]
  },
  {
   "cell_type": "code",
   "execution_count": 12,
   "id": "6421d4fe-2e84-49f7-a7ae-ef6f1fd4adcb",
   "metadata": {},
   "outputs": [
    {
     "data": {
      "text/html": [
       "<div>\n",
       "<style scoped>\n",
       "    .dataframe tbody tr th:only-of-type {\n",
       "        vertical-align: middle;\n",
       "    }\n",
       "\n",
       "    .dataframe tbody tr th {\n",
       "        vertical-align: top;\n",
       "    }\n",
       "\n",
       "    .dataframe thead th {\n",
       "        text-align: right;\n",
       "    }\n",
       "</style>\n",
       "<table border=\"1\" class=\"dataframe\">\n",
       "  <thead>\n",
       "    <tr style=\"text-align: right;\">\n",
       "      <th></th>\n",
       "      <th>disclaimer</th>\n",
       "      <th>license</th>\n",
       "      <th>timestamp</th>\n",
       "      <th>base</th>\n",
       "      <th>rates.AED</th>\n",
       "      <th>rates.AFN</th>\n",
       "      <th>rates.ALL</th>\n",
       "      <th>rates.AMD</th>\n",
       "      <th>rates.ANG</th>\n",
       "      <th>rates.AOA</th>\n",
       "      <th>...</th>\n",
       "      <th>rates.XCD</th>\n",
       "      <th>rates.XDR</th>\n",
       "      <th>rates.XOF</th>\n",
       "      <th>rates.XPD</th>\n",
       "      <th>rates.XPF</th>\n",
       "      <th>rates.XPT</th>\n",
       "      <th>rates.YER</th>\n",
       "      <th>rates.ZAR</th>\n",
       "      <th>rates.ZMW</th>\n",
       "      <th>rates.ZWL</th>\n",
       "    </tr>\n",
       "  </thead>\n",
       "  <tbody>\n",
       "    <tr>\n",
       "      <th>0</th>\n",
       "      <td>Usage subject to terms: https://openexchangera...</td>\n",
       "      <td>https://openexchangerates.org/license</td>\n",
       "      <td>1714586400</td>\n",
       "      <td>USD</td>\n",
       "      <td>3.67285</td>\n",
       "      <td>71.999996</td>\n",
       "      <td>93.909918</td>\n",
       "      <td>388.01106</td>\n",
       "      <td>1.80202</td>\n",
       "      <td>834.54</td>\n",
       "      <td>...</td>\n",
       "      <td>2.70255</td>\n",
       "      <td>0.758947</td>\n",
       "      <td>614.429858</td>\n",
       "      <td>0.001061</td>\n",
       "      <td>111.777122</td>\n",
       "      <td>0.00106</td>\n",
       "      <td>250.375049</td>\n",
       "      <td>18.645754</td>\n",
       "      <td>26.773697</td>\n",
       "      <td>322</td>\n",
       "    </tr>\n",
       "  </tbody>\n",
       "</table>\n",
       "<p>1 rows × 173 columns</p>\n",
       "</div>"
      ],
      "text/plain": [
       "                                          disclaimer  \\\n",
       "0  Usage subject to terms: https://openexchangera...   \n",
       "\n",
       "                                 license   timestamp base  rates.AED  \\\n",
       "0  https://openexchangerates.org/license  1714586400  USD    3.67285   \n",
       "\n",
       "   rates.AFN  rates.ALL  rates.AMD  rates.ANG  rates.AOA  ...  rates.XCD  \\\n",
       "0  71.999996  93.909918  388.01106    1.80202     834.54  ...    2.70255   \n",
       "\n",
       "   rates.XDR   rates.XOF  rates.XPD   rates.XPF  rates.XPT   rates.YER  \\\n",
       "0   0.758947  614.429858   0.001061  111.777122    0.00106  250.375049   \n",
       "\n",
       "   rates.ZAR  rates.ZMW  rates.ZWL  \n",
       "0  18.645754  26.773697        322  \n",
       "\n",
       "[1 rows x 173 columns]"
      ]
     },
     "execution_count": 12,
     "metadata": {},
     "output_type": "execute_result"
    }
   ],
   "source": [
    "df"
   ]
  },
  {
   "cell_type": "code",
   "execution_count": 13,
   "id": "01cd013d-4047-4a24-bae1-43fc8ab561ff",
   "metadata": {},
   "outputs": [],
   "source": [
    "def rename_columns(df):\n",
    "    return df.rename(columns=lambda x: x.split('.')[-1])"
   ]
  },
  {
   "cell_type": "code",
   "execution_count": 14,
   "id": "e7e3bb85-f84b-4dd3-8bd8-6da88d6ede80",
   "metadata": {},
   "outputs": [],
   "source": [
    "df_renamed = rename_columns(df)\n"
   ]
  },
  {
   "cell_type": "code",
   "execution_count": 15,
   "id": "b82d5a9f-5f45-400e-9791-8f1aeaffb25f",
   "metadata": {},
   "outputs": [
    {
     "data": {
      "text/html": [
       "<div>\n",
       "<style scoped>\n",
       "    .dataframe tbody tr th:only-of-type {\n",
       "        vertical-align: middle;\n",
       "    }\n",
       "\n",
       "    .dataframe tbody tr th {\n",
       "        vertical-align: top;\n",
       "    }\n",
       "\n",
       "    .dataframe thead th {\n",
       "        text-align: right;\n",
       "    }\n",
       "</style>\n",
       "<table border=\"1\" class=\"dataframe\">\n",
       "  <thead>\n",
       "    <tr style=\"text-align: right;\">\n",
       "      <th></th>\n",
       "      <th>disclaimer</th>\n",
       "      <th>license</th>\n",
       "      <th>timestamp</th>\n",
       "      <th>base</th>\n",
       "      <th>AED</th>\n",
       "      <th>AFN</th>\n",
       "      <th>ALL</th>\n",
       "      <th>AMD</th>\n",
       "      <th>ANG</th>\n",
       "      <th>AOA</th>\n",
       "      <th>...</th>\n",
       "      <th>XCD</th>\n",
       "      <th>XDR</th>\n",
       "      <th>XOF</th>\n",
       "      <th>XPD</th>\n",
       "      <th>XPF</th>\n",
       "      <th>XPT</th>\n",
       "      <th>YER</th>\n",
       "      <th>ZAR</th>\n",
       "      <th>ZMW</th>\n",
       "      <th>ZWL</th>\n",
       "    </tr>\n",
       "  </thead>\n",
       "  <tbody>\n",
       "    <tr>\n",
       "      <th>0</th>\n",
       "      <td>Usage subject to terms: https://openexchangera...</td>\n",
       "      <td>https://openexchangerates.org/license</td>\n",
       "      <td>1714586400</td>\n",
       "      <td>USD</td>\n",
       "      <td>3.67285</td>\n",
       "      <td>71.999996</td>\n",
       "      <td>93.909918</td>\n",
       "      <td>388.01106</td>\n",
       "      <td>1.80202</td>\n",
       "      <td>834.54</td>\n",
       "      <td>...</td>\n",
       "      <td>2.70255</td>\n",
       "      <td>0.758947</td>\n",
       "      <td>614.429858</td>\n",
       "      <td>0.001061</td>\n",
       "      <td>111.777122</td>\n",
       "      <td>0.00106</td>\n",
       "      <td>250.375049</td>\n",
       "      <td>18.645754</td>\n",
       "      <td>26.773697</td>\n",
       "      <td>322</td>\n",
       "    </tr>\n",
       "  </tbody>\n",
       "</table>\n",
       "<p>1 rows × 173 columns</p>\n",
       "</div>"
      ],
      "text/plain": [
       "                                          disclaimer  \\\n",
       "0  Usage subject to terms: https://openexchangera...   \n",
       "\n",
       "                                 license   timestamp base      AED        AFN  \\\n",
       "0  https://openexchangerates.org/license  1714586400  USD  3.67285  71.999996   \n",
       "\n",
       "         ALL        AMD      ANG     AOA  ...      XCD       XDR         XOF  \\\n",
       "0  93.909918  388.01106  1.80202  834.54  ...  2.70255  0.758947  614.429858   \n",
       "\n",
       "        XPD         XPF      XPT         YER        ZAR        ZMW  ZWL  \n",
       "0  0.001061  111.777122  0.00106  250.375049  18.645754  26.773697  322  \n",
       "\n",
       "[1 rows x 173 columns]"
      ]
     },
     "execution_count": 15,
     "metadata": {},
     "output_type": "execute_result"
    }
   ],
   "source": [
    "df_renamed"
   ]
  },
  {
   "cell_type": "code",
   "execution_count": 16,
   "id": "3d1692bb-95da-468f-a8f3-7eef6248853f",
   "metadata": {},
   "outputs": [],
   "source": [
    "exchangeEGP=df_renamed[['base','EGP','timestamp']]"
   ]
  },
  {
   "cell_type": "code",
   "execution_count": 17,
   "id": "36c519c4-dafb-4968-a4eb-a5832bc07cff",
   "metadata": {},
   "outputs": [
    {
     "data": {
      "text/html": [
       "<div>\n",
       "<style scoped>\n",
       "    .dataframe tbody tr th:only-of-type {\n",
       "        vertical-align: middle;\n",
       "    }\n",
       "\n",
       "    .dataframe tbody tr th {\n",
       "        vertical-align: top;\n",
       "    }\n",
       "\n",
       "    .dataframe thead th {\n",
       "        text-align: right;\n",
       "    }\n",
       "</style>\n",
       "<table border=\"1\" class=\"dataframe\">\n",
       "  <thead>\n",
       "    <tr style=\"text-align: right;\">\n",
       "      <th></th>\n",
       "      <th>base</th>\n",
       "      <th>EGP</th>\n",
       "      <th>timestamp</th>\n",
       "    </tr>\n",
       "  </thead>\n",
       "  <tbody>\n",
       "    <tr>\n",
       "      <th>0</th>\n",
       "      <td>USD</td>\n",
       "      <td>47.8632</td>\n",
       "      <td>1714586400</td>\n",
       "    </tr>\n",
       "  </tbody>\n",
       "</table>\n",
       "</div>"
      ],
      "text/plain": [
       "  base      EGP   timestamp\n",
       "0  USD  47.8632  1714586400"
      ]
     },
     "execution_count": 17,
     "metadata": {},
     "output_type": "execute_result"
    }
   ],
   "source": [
    "exchangeEGP"
   ]
  },
  {
   "cell_type": "code",
   "execution_count": 20,
   "id": "92be29f0-2cf3-41b1-871d-3e408ded4f9f",
   "metadata": {},
   "outputs": [
    {
     "name": "stderr",
     "output_type": "stream",
     "text": [
      "C:\\Users\\Ahmed Samy\\AppData\\Local\\Temp\\ipykernel_19084\\1200906480.py:9: SettingWithCopyWarning: \n",
      "A value is trying to be set on a copy of a slice from a DataFrame.\n",
      "Try using .loc[row_indexer,col_indexer] = value instead\n",
      "\n",
      "See the caveats in the documentation: https://pandas.pydata.org/pandas-docs/stable/user_guide/indexing.html#returning-a-view-versus-a-copy\n",
      "  exchangeEGP['Extract Time'] = datetime.now()\n",
      "C:\\Users\\Ahmed Samy\\AppData\\Local\\Temp\\ipykernel_19084\\1200906480.py:10: SettingWithCopyWarning: \n",
      "A value is trying to be set on a copy of a slice from a DataFrame.\n",
      "Try using .loc[row_indexer,col_indexer] = value instead\n",
      "\n",
      "See the caveats in the documentation: https://pandas.pydata.org/pandas-docs/stable/user_guide/indexing.html#returning-a-view-versus-a-copy\n",
      "  exchangeEGP['Source'] = 'API'\n"
     ]
    }
   ],
   "source": [
    "from datetime import datetime\n",
    "import os\n",
    "# Define the directory path\n",
    "directory_path = \"../Landing/Exchange/\"\n",
    "\n",
    "if not os.path.exists(directory_path):\n",
    "    os.makedirs(directory_path)\n",
    "    \n",
    "exchangeEGP['Extract Time'] = datetime.now()\n",
    "exchangeEGP['Source'] = 'API'\n",
    "\n",
    "exchangeEGP.to_csv(os.path.join(directory_path, \"exchange.csv\"), index=False)"
   ]
  },
  {
   "cell_type": "code",
   "execution_count": null,
   "id": "5d50c262-3437-4dce-aedb-8c389a4aaa2f",
   "metadata": {},
   "outputs": [],
   "source": []
  }
 ],
 "metadata": {
  "kernelspec": {
   "display_name": "Python 3 (ipykernel)",
   "language": "python",
   "name": "python3"
  },
  "language_info": {
   "codemirror_mode": {
    "name": "ipython",
    "version": 3
   },
   "file_extension": ".py",
   "mimetype": "text/x-python",
   "name": "python",
   "nbconvert_exporter": "python",
   "pygments_lexer": "ipython3",
   "version": "3.12.0"
  }
 },
 "nbformat": 4,
 "nbformat_minor": 5
}
