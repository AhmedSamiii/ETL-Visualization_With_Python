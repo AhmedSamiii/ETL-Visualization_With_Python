{
 "cells": [
  {
   "cell_type": "code",
   "execution_count": 3,
   "id": "89e597d3-158d-41af-808e-0213d28f0fd0",
   "metadata": {},
   "outputs": [],
   "source": [
    "import os\n",
    "import pandas as pd\n",
    "from datetime import datetime\n",
    "\n",
    "# Function to process CSV files recursively and add metadata columns\n",
    "def add_metadata_and_save(source_folder, destination_folder):\n",
    "    for root, _, files in os.walk(source_folder):\n",
    "        for filename in files:\n",
    "            if filename.endswith(\".csv\"):\n",
    "                file_path = os.path.join(root, filename)\n",
    "                # Read CSV file\n",
    "                df = pd.read_csv(file_path)\n",
    "                # Add metadata columns\n",
    "                df['Extract Time'] = datetime.now()\n",
    "                df['Source'] = 'datalake'\n",
    "                # Save file with modified columns to destination folder\n",
    "                subfolder = os.path.join(destination_folder, os.path.relpath(root, source_folder))\n",
    "                os.makedirs(subfolder, exist_ok=True)\n",
    "                df.to_csv(os.path.join(subfolder, filename), index=False)\n",
    "\n",
    "# Example usage:\n",
    "# Define source and destination folder paths\n",
    "source_folder = '../DataStore_Dim'\n",
    "destination_folder = '../Landing'\n",
    "\n",
    "# Process CSV files recursively, add metadata, and save to destination folder\n",
    "add_metadata_and_save(source_folder, destination_folder)\n"
   ]
  },
  {
   "cell_type": "code",
   "execution_count": null,
   "id": "c64a58e6-8d94-4bfd-a656-9e9e6a23f640",
   "metadata": {},
   "outputs": [],
   "source": []
  }
 ],
 "metadata": {
  "kernelspec": {
   "display_name": "Python 3 (ipykernel)",
   "language": "python",
   "name": "python3"
  },
  "language_info": {
   "codemirror_mode": {
    "name": "ipython",
    "version": 3
   },
   "file_extension": ".py",
   "mimetype": "text/x-python",
   "name": "python",
   "nbconvert_exporter": "python",
   "pygments_lexer": "ipython3",
   "version": "3.12.0"
  }
 },
 "nbformat": 4,
 "nbformat_minor": 5
}
