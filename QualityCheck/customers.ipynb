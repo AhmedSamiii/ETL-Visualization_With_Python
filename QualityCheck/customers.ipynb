{
 "cells": [
  {
   "cell_type": "code",
   "execution_count": 4,
   "id": "1d0b167b-2801-489a-b425-f2117d66a2b0",
   "metadata": {},
   "outputs": [],
   "source": [
    "import pandas as pd\n",
    "import os\n",
    "import re\n",
    "\n",
    "def convert_date_columns(df):\n",
    "    # Regular expression pattern for matching 'yyyy-mm-d' format\n",
    "    date_pattern = r'^\\d{4}-\\d{2}-\\d{2}$'\n",
    "    # Iterate over columns and check for date format\n",
    "    for col in df.columns:\n",
    "        if re.match(date_pattern, str(df[col].iloc[0])):  # Check if first value matches date pattern\n",
    "            df[col] = pd.to_datetime(df[col], format='%Y-%m-%d', errors='coerce')\n",
    "\n",
    "    return df\n",
    "\n",
    "def handle_nulls(df):\n",
    "    for column in df.columns:\n",
    "        if df[column].dtype == 'object':\n",
    "            df[column] = df[column].fillna('Missing')\n",
    "        elif df[column].dtype == 'datetime64[ns]':\n",
    "            df[column] = df[column].ffill()\n",
    "        elif df[column].dtype in ['int64', 'float64']:\n",
    "            # If you're not sure about the nature of data, you can replace nulls with the mean value\n",
    "            mean_value = df[column].mean()\n",
    "            df[column] = df[column].fillna(mean_value)\n",
    "    return df\n",
    "\n",
    "def save_to_csv(df, dataframe_name):\n",
    "    filepath = f\"../staging_1/{dataframe_name}/{dataframe_name}.csv\"\n",
    "    directory = os.path.dirname(filepath)\n",
    "    if not os.path.exists(directory):\n",
    "        os.makedirs(directory)\n",
    "    df.to_csv(filepath, index=False)\n",
    "\n",
    "def drop_duplicates_keep_first(df):\n",
    "    df.drop_duplicates(keep='first', inplace=True)\n",
    "    return df\n",
    "\n",
    "customers = pd.read_csv(\"../Landing/customers/customers.csv\")\n",
    "customers = convert_date_columns(customers)\n",
    "customers = handle_nulls(customers)\n",
    "customers = drop_duplicates_keep_first(customers)\n",
    "save_to_csv(customers, \"customers\")\n"
   ]
  },
  {
   "cell_type": "code",
   "execution_count": 9,
   "id": "2b618222-0128-402d-a98e-f72890169781",
   "metadata": {},
   "outputs": [
    {
     "name": "stdout",
     "output_type": "stream",
     "text": [
      "<class 'pandas.core.frame.DataFrame'>\n",
      "RangeIndex: 7 entries, 0 to 6\n",
      "Data columns (total 4 columns):\n",
      " #   Column         Non-Null Count  Dtype \n",
      "---  ------         --------------  ----- \n",
      " 0   category_id    7 non-null      int64 \n",
      " 1   category_name  7 non-null      object\n",
      " 2   ExtractTime    7 non-null      object\n",
      " 3   source         7 non-null      object\n",
      "dtypes: int64(1), object(3)\n",
      "memory usage: 356.0+ bytes\n"
     ]
    }
   ],
   "source": [
    "categories.info()"
   ]
  }
 ],
 "metadata": {
  "kernelspec": {
   "display_name": "Python 3 (ipykernel)",
   "language": "python",
   "name": "python3"
  },
  "language_info": {
   "codemirror_mode": {
    "name": "ipython",
    "version": 3
   },
   "file_extension": ".py",
   "mimetype": "text/x-python",
   "name": "python",
   "nbconvert_exporter": "python",
   "pygments_lexer": "ipython3",
   "version": "3.12.0"
  }
 },
 "nbformat": 4,
 "nbformat_minor": 5
}
