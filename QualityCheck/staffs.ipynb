{
 "cells": [
  {
   "cell_type": "code",
   "execution_count": 2,
   "id": "f261482b-07bb-4ce7-b163-4de3515d1964",
   "metadata": {},
   "outputs": [
    {
     "data": {
      "text/plain": [
       "(10, 10)"
      ]
     },
     "execution_count": 2,
     "metadata": {},
     "output_type": "execute_result"
    }
   ],
   "source": [
    "import pandas as pd\n",
    "import os\n",
    "import re\n",
    "\n",
    "def convert_date_columns(df):\n",
    "    # Regular expression pattern for matching 'yyyy-mm-d' format\n",
    "    date_pattern = r'^\\d{4}-\\d{2}-\\d{2}$'\n",
    "    # Iterate over columns and check for date format\n",
    "    for col in df.columns:\n",
    "        if re.match(date_pattern, str(df[col].iloc[0])):  # Check if first value matches date pattern\n",
    "            df[col] = pd.to_datetime(df[col], format='%Y-%m-%d', errors='coerce')\n",
    "\n",
    "    return df\n",
    "\n",
    "def handle_nulls(df):\n",
    "    for column in df.columns:\n",
    "        if df[column].dtype == 'object':\n",
    "            df[column] = df[column].fillna('Missing')\n",
    "        elif df[column].dtype == 'datetime64[ns]':\n",
    "            df[column] = df[column].ffill()\n",
    "        elif df[column].dtype in ['int64', 'float64']:\n",
    "            # If you're not sure about the nature of data, you can replace nulls with the mean value\n",
    "            mean_value = df[column].mean()\n",
    "            df[column] = df[column].fillna(mean_value)\n",
    "    return df\n",
    "\n",
    "def save_to_csv(df, dataframe_name):\n",
    "    filepath = f\"../staging_1/{dataframe_name}/{dataframe_name}.csv\"\n",
    "    directory = os.path.dirname(filepath)\n",
    "    if not os.path.exists(directory):\n",
    "        os.makedirs(directory)\n",
    "    df.to_csv(filepath, index=False)\n",
    "\n",
    "def drop_duplicates_keep_first(df):\n",
    "    df.drop_duplicates(keep='first', inplace=True)\n",
    "    return df\n",
    "\n",
    "staffs = pd.read_csv(\"../Landing/staffs/staffs.csv\")\n",
    "staffs = convert_date_columns(staffs)\n",
    "staffs = handle_nulls(staffs)\n",
    "staffs = drop_duplicates_keep_first(staffs)\n",
    "save_to_csv(staffs, \"staffs\")\n",
    "staffs.shape"
   ]
  },
  {
   "cell_type": "code",
   "execution_count": null,
   "id": "c69badbc-9db1-47d2-bb9e-e7b12b9ea624",
   "metadata": {},
   "outputs": [],
   "source": []
  }
 ],
 "metadata": {
  "kernelspec": {
   "display_name": "Python 3 (ipykernel)",
   "language": "python",
   "name": "python3"
  },
  "language_info": {
   "codemirror_mode": {
    "name": "ipython",
    "version": 3
   },
   "file_extension": ".py",
   "mimetype": "text/x-python",
   "name": "python",
   "nbconvert_exporter": "python",
   "pygments_lexer": "ipython3",
   "version": "3.12.0"
  }
 },
 "nbformat": 4,
 "nbformat_minor": 5
}
