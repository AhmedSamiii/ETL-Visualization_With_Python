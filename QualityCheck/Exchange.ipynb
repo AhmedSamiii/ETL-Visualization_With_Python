{
 "cells": [
  {
   "cell_type": "code",
   "execution_count": 3,
   "id": "5d50c262-3437-4dce-aedb-8c389a4aaa2f",
   "metadata": {},
   "outputs": [],
   "source": [
    "import pandas as pd\n",
    "import os\n",
    "import pandas as pd\n",
    "\n",
    "def handle_nulls(df):\n",
    "    for column in df.columns:\n",
    "        if df[column].dtype == 'object':\n",
    "            df[column] = df[column].fillna('Missing')\n",
    "        elif df[column].dtype == 'datetime64[ns]':\n",
    "            df[column] = df[column].ffill()\n",
    "        elif df[column].dtype in ['int64', 'float64']:\n",
    "            # If you're not sure about the nature of data, you can replace nulls with the mean value\n",
    "            mean_value = df[column].mean()\n",
    "            df[column] = df[column].fillna(mean_value)\n",
    "    return df\n",
    "\n",
    "def save_to_csv(df):\n",
    "    \n",
    "    dataframe_name = df.name if df.name else 'unknown'\n",
    "    filepath = f\"../staging_1/{dataframe_name}/{dataframe_name}.csv\"\n",
    "    directory = os.path.dirname(filepath)\n",
    "    if not os.path.exists(directory):\n",
    "        os.makedirs(directory)\n",
    "    df.to_csv(filepath, index=False)\n",
    "\n",
    "def drop_duplicates_keep_first(df):\n",
    "    df.drop_duplicates(keep='first', inplace=True)\n",
    "    return df\n",
    "\n",
    "\n",
    "exchange=pd.read_csv(\"../Landing/exchange/exchange.csv\")\n",
    "\n",
    "exchange.name= 'exchange'\n",
    "handle_nulls(exchange)\n",
    "drop_duplicates_keep_first(exchange)\n",
    "save_to_csv(exchange)\n"
   ]
  },
  {
   "cell_type": "code",
   "execution_count": null,
   "id": "375d07dd-6f9b-46e2-899f-7223a7b99139",
   "metadata": {},
   "outputs": [],
   "source": []
  }
 ],
 "metadata": {
  "kernelspec": {
   "display_name": "Python 3 (ipykernel)",
   "language": "python",
   "name": "python3"
  },
  "language_info": {
   "codemirror_mode": {
    "name": "ipython",
    "version": 3
   },
   "file_extension": ".py",
   "mimetype": "text/x-python",
   "name": "python",
   "nbconvert_exporter": "python",
   "pygments_lexer": "ipython3",
   "version": "3.12.0"
  }
 },
 "nbformat": 4,
 "nbformat_minor": 5
}
