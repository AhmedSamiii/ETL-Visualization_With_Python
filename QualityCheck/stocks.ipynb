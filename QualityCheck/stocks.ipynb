{
 "cells": [
  {
   "cell_type": "code",
   "execution_count": 1,
   "id": "d0e1901d-db78-494d-ab8f-828fecffb21f",
   "metadata": {},
   "outputs": [
    {
     "data": {
      "text/plain": [
       "(939, 5)"
      ]
     },
     "execution_count": 1,
     "metadata": {},
     "output_type": "execute_result"
    }
   ],
   "source": [
    "import pandas as pd\n",
    "import os\n",
    "import re\n",
    "\n",
    "def convert_date_columns(df):\n",
    "    # Regular expression pattern for matching 'yyyy-mm-d' format\n",
    "    date_pattern = r'^\\d{4}-\\d{2}-\\d{2}$'\n",
    "    # Iterate over columns and check for date format\n",
    "    for col in df.columns:\n",
    "        if re.match(date_pattern, str(df[col].iloc[0])):  # Check if first value matches date pattern\n",
    "            df[col] = pd.to_datetime(df[col], format='%Y-%m-%d', errors='coerce')\n",
    "\n",
    "    return df\n",
    "\n",
    "def handle_nulls(df):\n",
    "    for column in df.columns:\n",
    "        if df[column].dtype == 'object':\n",
    "            df[column] = df[column].fillna('Missing')\n",
    "        elif df[column].dtype == 'datetime64[ns]':\n",
    "            df[column] = df[column].ffill()\n",
    "        elif df[column].dtype in ['int64', 'float64']:\n",
    "            # If you're not sure about the nature of data, you can replace nulls with the mean value\n",
    "            mean_value = df[column].mean()\n",
    "            df[column] = df[column].fillna(mean_value)\n",
    "    return df\n",
    "\n",
    "def save_to_csv(df, dataframe_name):\n",
    "    filepath = f\"../staging_1/{dataframe_name}/{dataframe_name}.csv\"\n",
    "    directory = os.path.dirname(filepath)\n",
    "    if not os.path.exists(directory):\n",
    "        os.makedirs(directory)\n",
    "    df.to_csv(filepath, index=False)\n",
    "\n",
    "def drop_duplicates_keep_first(df):\n",
    "    df.drop_duplicates(keep='first', inplace=True)\n",
    "    return df\n",
    "\n",
    "stocks = pd.read_csv(\"../Landing/stocks/stocks.csv\")\n",
    "stocks = convert_date_columns(stocks)\n",
    "stocks = handle_nulls(stocks)\n",
    "stocks = drop_duplicates_keep_first(stocks)\n",
    "save_to_csv(stocks, \"stocks\")\n",
    "stocks.shape"
   ]
  },
  {
   "cell_type": "code",
   "execution_count": null,
   "id": "5c399707-588d-4772-a835-dbdc25a7c986",
   "metadata": {},
   "outputs": [],
   "source": []
  }
 ],
 "metadata": {
  "kernelspec": {
   "display_name": "Python 3 (ipykernel)",
   "language": "python",
   "name": "python3"
  },
  "language_info": {
   "codemirror_mode": {
    "name": "ipython",
    "version": 3
   },
   "file_extension": ".py",
   "mimetype": "text/x-python",
   "name": "python",
   "nbconvert_exporter": "python",
   "pygments_lexer": "ipython3",
   "version": "3.12.0"
  }
 },
 "nbformat": 4,
 "nbformat_minor": 5
}
