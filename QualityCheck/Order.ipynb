{
 "cells": [
  {
   "cell_type": "code",
   "execution_count": 5,
   "id": "53e5e51f-ddce-4e3f-84df-36e9173d0987",
   "metadata": {},
   "outputs": [],
   "source": [
    "import pandas as pd\n",
    "import os\n",
    "import re\n",
    "\n",
    "def convert_date_columns(df):\n",
    "    # Regular expression pattern for matching 'yyyy-mm-d' format\n",
    "    date_pattern = r'^\\d{4}-\\d{2}-\\d{2}$'\n",
    "    # Iterate over columns and check for date format\n",
    "    for col in df.columns:\n",
    "        if re.match(date_pattern, str(df[col].iloc[0])):  # Check if first value matches date pattern\n",
    "            df[col] = pd.to_datetime(df[col], format='%Y-%m-%d', errors='coerce')\n",
    "\n",
    "    return df\n",
    "\n",
    "def handle_nulls(df):\n",
    "    for column in df.columns:\n",
    "        if df[column].dtype == 'object':\n",
    "            df[column] = df[column].fillna('Missing')\n",
    "        elif df[column].dtype == 'datetime64[ns]':\n",
    "            df[column] = df[column].ffill()\n",
    "        elif df[column].dtype in ['int64', 'float64']:\n",
    "            # If you're not sure about the nature of data, you can replace nulls with the mean value\n",
    "            mean_value = df[column].mean()\n",
    "            df[column] = df[column].fillna(mean_value)\n",
    "    return df\n",
    "\n",
    "def save_to_csv(df, dataframe_name):\n",
    "    filepath = f\"../staging_1/{dataframe_name}/{dataframe_name}.csv\"\n",
    "    directory = os.path.dirname(filepath)\n",
    "    if not os.path.exists(directory):\n",
    "        os.makedirs(directory)\n",
    "    df.to_csv(filepath, index=False)\n",
    "\n",
    "def drop_duplicates_keep_first(df):\n",
    "    df.drop_duplicates(keep='first', inplace=True)\n",
    "    return df\n",
    "\n",
    "orders = pd.read_csv(\"../Landing/orders/orders.csv\")\n",
    "orders = convert_date_columns(orders)\n",
    "orders = orders[(orders['order_date'].dt.year >= 2000) & (orders['order_date'].dt.year <= 2024)]\n",
    "orders = handle_nulls(orders)\n",
    "orders = drop_duplicates_keep_first(orders)\n",
    "save_to_csv(orders, \"orders\")\n"
   ]
  },
  {
   "cell_type": "code",
   "execution_count": 5,
   "id": "c949e3aa-6f33-4b8b-a030-eeacb7dbb6c0",
   "metadata": {},
   "outputs": [
    {
     "data": {
      "text/plain": [
       "(1604, 10)"
      ]
     },
     "execution_count": 5,
     "metadata": {},
     "output_type": "execute_result"
    }
   ],
   "source": [
    "orders.shape"
   ]
  },
  {
   "cell_type": "code",
   "execution_count": 6,
   "id": "be5a1fd2-486f-4227-a773-36e3af701d8b",
   "metadata": {},
   "outputs": [
    {
     "data": {
      "text/plain": [
       "order_id         0\n",
       "customer_id      0\n",
       "order_status     0\n",
       "order_date       0\n",
       "required_date    0\n",
       "shipped_date     0\n",
       "store_id         0\n",
       "staff_id         0\n",
       "ExtractTime      0\n",
       "source           0\n",
       "dtype: int64"
      ]
     },
     "execution_count": 6,
     "metadata": {},
     "output_type": "execute_result"
    }
   ],
   "source": [
    "orders.isnull().sum()"
   ]
  },
  {
   "cell_type": "code",
   "execution_count": 22,
   "id": "83c7edd4-1c40-4ac4-b8d2-6324aa61f6c6",
   "metadata": {},
   "outputs": [
    {
     "name": "stdout",
     "output_type": "stream",
     "text": [
      "<class 'pandas.core.frame.DataFrame'>\n",
      "Index: 1604 entries, 0 to 1614\n",
      "Data columns (total 10 columns):\n",
      " #   Column         Non-Null Count  Dtype         \n",
      "---  ------         --------------  -----         \n",
      " 0   order_id       1604 non-null   int64         \n",
      " 1   customer_id    1604 non-null   int64         \n",
      " 2   order_status   1604 non-null   int64         \n",
      " 3   order_date     1604 non-null   datetime64[ns]\n",
      " 4   required_date  1604 non-null   datetime64[ns]\n",
      " 5   shipped_date   1604 non-null   datetime64[ns]\n",
      " 6   store_id       1604 non-null   int64         \n",
      " 7   staff_id       1604 non-null   int64         \n",
      " 8   ExtractTime    1604 non-null   object        \n",
      " 9   source         1604 non-null   object        \n",
      "dtypes: datetime64[ns](3), int64(5), object(2)\n",
      "memory usage: 137.8+ KB\n"
     ]
    }
   ],
   "source": [
    "orders.info()"
   ]
  }
 ],
 "metadata": {
  "kernelspec": {
   "display_name": "Python 3 (ipykernel)",
   "language": "python",
   "name": "python3"
  },
  "language_info": {
   "codemirror_mode": {
    "name": "ipython",
    "version": 3
   },
   "file_extension": ".py",
   "mimetype": "text/x-python",
   "name": "python",
   "nbconvert_exporter": "python",
   "pygments_lexer": "ipython3",
   "version": "3.12.0"
  }
 },
 "nbformat": 4,
 "nbformat_minor": 5
}
